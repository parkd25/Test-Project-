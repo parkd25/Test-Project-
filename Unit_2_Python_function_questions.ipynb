{
  "nbformat": 4,
  "nbformat_minor": 0,
  "metadata": {
    "colab": {
      "name": "Unit 2: Python function questions",
      "provenance": [],
      "authorship_tag": "ABX9TyN4ovX8/pJzgWUtZeryk6Lc",
      "include_colab_link": true
    },
    "kernelspec": {
      "name": "python3",
      "display_name": "Python 3"
    },
    "language_info": {
      "name": "python"
    }
  },
  "cells": [
    {
      "cell_type": "markdown",
      "metadata": {
        "id": "view-in-github",
        "colab_type": "text"
      },
      "source": [
        "<a href=\"https://colab.research.google.com/github/parkd25/Test-Project-/blob/main/Unit_2_Python_function_questions.ipynb\" target=\"_parent\"><img src=\"https://colab.research.google.com/assets/colab-badge.svg\" alt=\"Open In Colab\"/></a>"
      ]
    },
    {
      "cell_type": "code",
      "execution_count": null,
      "metadata": {
        "colab": {
          "base_uri": "https://localhost:8080/"
        },
        "id": "qALQSe6B3TbR",
        "outputId": "59e3c11b-2468-46a0-b73e-b1620f4445f6"
      },
      "outputs": [
        {
          "output_type": "stream",
          "name": "stdout",
          "text": [
            "8\n"
          ]
        }
      ],
      "source": [
        "# Write a Python function to find the Max of three numbers\n",
        "\n",
        "def maximum(a, b, c): \n",
        "\n",
        "  if (a >= b) and (a >= c): \n",
        "    largest = a \n",
        "  elif (b >= a) and (b >= c): \n",
        "    largest = b \n",
        "  else: \n",
        "    largest = c \n",
        "  return largest \n",
        "\n",
        "a = 8\n",
        "b = 6 \n",
        "c = 3\n",
        "\n",
        "print(maximum(a, b, c))"
      ]
    },
    {
      "cell_type": "code",
      "source": [
        "# Write a Python function to sum all the numbers in a list. Sample List : (8, 2, 3, 0, 7) Expected Output : 20\n",
        "\n",
        "numbers = [8, 2, 3, 0, 7]\n",
        "total = 0 \n",
        "for x in numbers: \n",
        "  total += x \n",
        "\n",
        "print(total) "
      ],
      "metadata": {
        "colab": {
          "base_uri": "https://localhost:8080/"
        },
        "id": "m-kHgqE23Zll",
        "outputId": "6c5c14da-f9d3-4f51-ea30-ef61f7e70c52"
      },
      "execution_count": null,
      "outputs": [
        {
          "output_type": "stream",
          "name": "stdout",
          "text": [
            "20\n"
          ]
        }
      ]
    },
    {
      "cell_type": "code",
      "source": [
        "# Write a Python function to multiply all the numbers in a list. Sample List : (8, 2, 3, -1, 7) Expected Output : -336\n",
        "\n",
        "numbers = [8, 2, 3, -1, 7] \n",
        "total = 1 \n",
        "for x in numbers: \n",
        "  total *= x \n",
        "\n",
        "print(total)"
      ],
      "metadata": {
        "colab": {
          "base_uri": "https://localhost:8080/"
        },
        "id": "1xm2JvnG3fC4",
        "outputId": "7d4fed7c-58f1-44d9-8e61-84c84e8d4416"
      },
      "execution_count": null,
      "outputs": [
        {
          "output_type": "stream",
          "name": "stdout",
          "text": [
            "-336\n"
          ]
        }
      ]
    },
    {
      "cell_type": "code",
      "source": [
        "# Write a Python program to reverse a string. Sample String : \"1234abcd\" Expected Output : \"dcba4321\"\n",
        "\n",
        "def reverse(s): \n",
        "  str = \"\"\n",
        "  for i in s: \n",
        "    str = i + str\n",
        "  return str\n",
        "\n",
        "s = \"1234abcd\"\n",
        "\n",
        "print(end=\"\")\n",
        "print(reverse(s))\n"
      ],
      "metadata": {
        "colab": {
          "base_uri": "https://localhost:8080/"
        },
        "id": "rJ0S63gj3iod",
        "outputId": "26e4fbbe-08da-4cf7-dca2-3d06fe13e81f"
      },
      "execution_count": null,
      "outputs": [
        {
          "output_type": "stream",
          "name": "stdout",
          "text": [
            "dcba4321\n"
          ]
        }
      ]
    },
    {
      "cell_type": "code",
      "source": [
        "# Write a Python function to calculate the factorial of a number (a non-negative integer). The function accepts the number as an argument.\n",
        "\n",
        "def factorial(s): \n",
        "  if s == 0: \n",
        "    return 1 \n",
        "  else: \n",
        "    return s * factorial(s-1) \n",
        "s = int(input(\"Input a number to apply factorial: \"))\n",
        "\n",
        "print(factorial(s))"
      ],
      "metadata": {
        "colab": {
          "base_uri": "https://localhost:8080/"
        },
        "id": "yhJfBI6z3rj3",
        "outputId": "10a55001-f2c6-4a17-f893-1872c8431486"
      },
      "execution_count": null,
      "outputs": [
        {
          "output_type": "stream",
          "name": "stdout",
          "text": [
            "Input a number to apply factorial: 3\n",
            "6\n"
          ]
        }
      ]
    },
    {
      "cell_type": "code",
      "source": [
        "# Write a Python function to check whether a number falls in a given range.\n",
        "\n",
        "def test_range(n): \n",
        "  if n in range(0,5): \n",
        "    print(\" %s is in the range\"%str(n)) \n",
        "  else: \n",
        "    print(\"The number is outside the given range.\")\n",
        "test_range(3)"
      ],
      "metadata": {
        "id": "kP2_Sbtq6jia",
        "colab": {
          "base_uri": "https://localhost:8080/"
        },
        "outputId": "02b87c9d-b915-415e-f612-de8d07d454c2"
      },
      "execution_count": null,
      "outputs": [
        {
          "output_type": "stream",
          "name": "stdout",
          "text": [
            " 3 is in the range\n"
          ]
        }
      ]
    },
    {
      "cell_type": "code",
      "source": [
        "# Write a Python function that accepts a string and calculate the number of upper case letters and lower case letters. Sample String : 'The quick Brow Fox' Expected Output : No. of Upper case characters : 3 No. of Lower case Characters : 12\n",
        "\n",
        "def string_test(s): \n",
        "  d = {\"UPPER_CASE\":0, \"LOWER_CASE\":0}\n",
        "  for c in s: \n",
        "    if c.isupper(): \n",
        "      d[\"UPPER_CASE\"]+=1 \n",
        "    elif c.islower(): \n",
        "      d[\"LOWER_CASE\"]+=1 \n",
        "    else: \n",
        "      pass \n",
        "  print(\"original String : \", s)\n",
        "  print(\"No. of Upper case characters : \", d[\"UPPER_CASE\"])\n",
        "  print(\"No. of Lower case characters : \", d[\"LOWER_CASE\"])\n",
        "\n",
        "string_test('The quick Brown Fox') "
      ],
      "metadata": {
        "colab": {
          "base_uri": "https://localhost:8080/"
        },
        "id": "kBgKjUSoyycF",
        "outputId": "bf261281-be85-4f6e-a089-e62fba6d6537"
      },
      "execution_count": null,
      "outputs": [
        {
          "output_type": "stream",
          "name": "stdout",
          "text": [
            "original String :  The quick Brown Fox\n",
            "No. of Upper case characters :  3\n",
            "No. of Lower case characters :  13\n"
          ]
        }
      ]
    },
    {
      "cell_type": "code",
      "source": [
        "# Write a Python function that takes a list and returns a new list with unique elements of the first list. Sample List : [1,2,3,3,3,3,4,5] Unique List : [1, 2, 3, 4, 5]\n",
        "\n",
        "def unique_list(l):\n",
        "  x = []\n",
        "  for a in l:\n",
        "    if a not in x:\n",
        "      x.append(a)\n",
        "  return x\n",
        "\n",
        "print(unique_list([1,2,3,3,3,3,4,5])) "
      ],
      "metadata": {
        "colab": {
          "base_uri": "https://localhost:8080/"
        },
        "id": "Ba6C28hnVfJf",
        "outputId": "788a55ce-bd72-4008-ba34-c231feba4863"
      },
      "execution_count": null,
      "outputs": [
        {
          "output_type": "stream",
          "name": "stdout",
          "text": [
            "[1, 2, 3, 4, 5]\n"
          ]
        }
      ]
    },
    {
      "cell_type": "code",
      "source": [
        "# Write a Python program to print the even numbers from a given list. Sample List : [1, 2, 3, 4, 5, 6, 7, 8, 9] Expected Result : [2, 4, 6, 8]\n",
        "\n",
        "def is_even_num(s):\n",
        "    enum = []\n",
        "    for n in s:\n",
        "        if n % 2 == 0:\n",
        "            enum.append(n)\n",
        "    return enum\n",
        "print(is_even_num([1, 2, 3, 4, 5, 6, 7, 8, 9]))"
      ],
      "metadata": {
        "colab": {
          "base_uri": "https://localhost:8080/"
        },
        "id": "XVgfervmVz4N",
        "outputId": "1b367435-29f9-4898-b9e2-41ab0021b7be"
      },
      "execution_count": null,
      "outputs": [
        {
          "output_type": "stream",
          "name": "stdout",
          "text": [
            "[2, 4, 6, 8]\n"
          ]
        }
      ]
    },
    {
      "cell_type": "code",
      "source": [
        "# Write a Python function to check whether a number is perfect or not. \n",
        "\n",
        "def perfect_number(s):\n",
        "    sum = 0\n",
        "    for x in range(1, s):\n",
        "        if s % x == 0:\n",
        "            sum += x\n",
        "    return sum == s\n",
        "print(perfect_number(30))"
      ],
      "metadata": {
        "colab": {
          "base_uri": "https://localhost:8080/"
        },
        "id": "mLtMdCjLWaHn",
        "outputId": "222aaa05-12a6-4d38-810e-da2a68dfe117"
      },
      "execution_count": null,
      "outputs": [
        {
          "output_type": "stream",
          "name": "stdout",
          "text": [
            "False\n"
          ]
        }
      ]
    },
    {
      "cell_type": "code",
      "source": [
        "# Write a Python function that checks whether a passed string is palindrome or not. Note: A palindrome is a word, phrase, or sequence that reads the same backward as forward, e.g., madam or nurses run\n",
        "\n",
        "def isPalindrome(string):\n",
        "\tleft_pos = 0\n",
        "\tright_pos = len(string) - 1\n",
        "\t\n",
        "\twhile right_pos >= left_pos:\n",
        "\t\tif not string[left_pos] == string[right_pos]:\n",
        "\t\t\treturn False\n",
        "\t\tleft_pos += 1\n",
        "\t\tright_pos -= 1\n",
        "\treturn True\n",
        "print(isPalindrome('aza')) "
      ],
      "metadata": {
        "colab": {
          "base_uri": "https://localhost:8080/"
        },
        "id": "pYJD4MaJXNfH",
        "outputId": "e5868040-e7c2-4ca6-c007-404200c3613e"
      },
      "execution_count": null,
      "outputs": [
        {
          "output_type": "stream",
          "name": "stdout",
          "text": [
            "True\n"
          ]
        }
      ]
    },
    {
      "cell_type": "code",
      "source": [
        "# Write a Python function that prints out the first n rows of Pascal's triangle.Note : Pascal's triangle is an arithmetic and geometric figure first imagined by Blaise Pascal. Sample Pascal's triangle : Each number is the two numbers above it added together\n",
        "\n",
        "def pascal_triangle(n):\n",
        "   trow = [1]\n",
        "   y = [0]\n",
        "   for x in range(max(n,0)):\n",
        "      print(trow)\n",
        "      trow=[l+r for l,r in zip(trow+y, y+trow)]\n",
        "   return n>=1\n",
        "pascal_triangle(5) "
      ],
      "metadata": {
        "colab": {
          "base_uri": "https://localhost:8080/"
        },
        "id": "io82mMRsXdnz",
        "outputId": "9278224d-7a91-43e7-de50-9aa0dfed589e"
      },
      "execution_count": null,
      "outputs": [
        {
          "output_type": "stream",
          "name": "stdout",
          "text": [
            "[1]\n",
            "[1, 1]\n",
            "[1, 2, 1]\n",
            "[1, 3, 3, 1]\n",
            "[1, 4, 6, 4, 1]\n"
          ]
        },
        {
          "output_type": "execute_result",
          "data": {
            "text/plain": [
              "True"
            ]
          },
          "metadata": {},
          "execution_count": 15
        }
      ]
    },
    {
      "cell_type": "code",
      "source": [
        "# Write a Python function to check whether a string is a pangram or not. Note : Pangrams are words or sentences containing every letter of the alphabet at least once. For example : \"The quick brown fox jumps over the lazy dog\"\n",
        "\n",
        "import string, sys\n",
        "def ispangram(str1, alphabet=string.ascii_lowercase):\n",
        "    alphaset = set(alphabet)\n",
        "    return alphaset <= set(str1.lower())\n",
        " \n",
        "print ( ispangram('The quick brown fox jumps over the lazy dog')) "
      ],
      "metadata": {
        "colab": {
          "base_uri": "https://localhost:8080/"
        },
        "id": "1-5-wfXRX1aE",
        "outputId": "83fc6a9f-3f0e-40b4-8306-10ac1bdccedd"
      },
      "execution_count": null,
      "outputs": [
        {
          "output_type": "stream",
          "name": "stdout",
          "text": [
            "True\n"
          ]
        }
      ]
    },
    {
      "cell_type": "code",
      "source": [
        "# Write a Python program that accepts a hyphen-separated sequence of words as input and prints the words in a hyphen-separated sequence after sorting them alphabetically. Sample Items : green-red-yellow-black-white Expected Result : black-green-red-white-yellow \n",
        "\n",
        "items=[n for n in input().split('-')]\n",
        "items.sort()\n",
        "print('-'.join(items))"
      ],
      "metadata": {
        "colab": {
          "base_uri": "https://localhost:8080/"
        },
        "id": "_GcBg5PuYKTt",
        "outputId": "22d5709a-05fe-481c-94e0-29acde4864b2"
      },
      "execution_count": null,
      "outputs": [
        {
          "output_type": "stream",
          "name": "stdout",
          "text": [
            "green-red-black-white\n",
            "black-green-red-white\n"
          ]
        }
      ]
    },
    {
      "cell_type": "code",
      "source": [
        "# Write a Python function to create and print a list where the values are square of numbers between 1 and 30 (both included). \n",
        "\n",
        "def printValues():\n",
        "\tl = list()\n",
        "\tfor i in range(1,21):\n",
        "\t\tl.append(i**2)\n",
        "\tprint(l)\n",
        "\t\t\n",
        "printValues()"
      ],
      "metadata": {
        "colab": {
          "base_uri": "https://localhost:8080/"
        },
        "id": "ovkUqt0rYRi4",
        "outputId": "c78ad570-25aa-4e53-8366-1c43bcf9eeb2"
      },
      "execution_count": null,
      "outputs": [
        {
          "output_type": "stream",
          "name": "stdout",
          "text": [
            "[1, 4, 9, 16, 25, 36, 49, 64, 81, 100, 121, 144, 169, 196, 225, 256, 289, 324, 361, 400]\n"
          ]
        }
      ]
    },
    {
      "cell_type": "code",
      "source": [
        "# Write a Python program to make a chain of function decorators (bold, italic, underline etc.) in Python.\n",
        "\n",
        "def make_bold(fn):\n",
        "    def wrapped():\n",
        "        return \"<b>\" + fn() + \"</b>\"\n",
        "    return wrapped\n",
        "\n",
        "def make_italic(fn):\n",
        "    def wrapped():\n",
        "        return \"<i>\" + fn() + \"</i>\"\n",
        "    return wrapped\n",
        "\n",
        "def make_underline(fn):\n",
        "    def wrapped():\n",
        "        return \"<u>\" + fn() + \"</u>\"\n",
        "    return wrapped\n",
        "@make_bold\n",
        "@make_italic\n",
        "@make_underline\n",
        "def hello():\n",
        "    return \"hello world\"\n",
        "print(hello())"
      ],
      "metadata": {
        "colab": {
          "base_uri": "https://localhost:8080/"
        },
        "id": "vMR-ibBzYdKW",
        "outputId": "d9600f3b-7cc5-4a5f-b7a4-2cae38164c24"
      },
      "execution_count": null,
      "outputs": [
        {
          "output_type": "stream",
          "name": "stdout",
          "text": [
            "<b><i><u>hello world</u></i></b>\n"
          ]
        }
      ]
    },
    {
      "cell_type": "code",
      "source": [
        "# Write a Python program to execute a string containing Python code.\n",
        "\n",
        "mycode = 'print(\"hello world\")'\n",
        "code = \"\"\"\n",
        "def mutiply(x,y):\n",
        "    return x*y\n",
        "\n",
        "print('Multiply of 2 and 3 is: ',mutiply(2,3))\n",
        "\"\"\"\n",
        "exec(mycode)\n",
        "exec(code)"
      ],
      "metadata": {
        "colab": {
          "base_uri": "https://localhost:8080/"
        },
        "id": "BK5TUk6kYou-",
        "outputId": "1c8dc43a-d29b-4524-f274-70053b08cea4"
      },
      "execution_count": null,
      "outputs": [
        {
          "output_type": "stream",
          "name": "stdout",
          "text": [
            "hello world\n",
            "Multiply of 2 and 3 is:  6\n"
          ]
        }
      ]
    },
    {
      "cell_type": "code",
      "source": [
        "# Write a Python program to access a function inside a function.\n",
        "\n",
        "def test(a):\n",
        "        def add(b):\n",
        "                nonlocal a\n",
        "                a += 1\n",
        "                return a+b\n",
        "        return add\n",
        "func= test(4)\n",
        "print(func(4))"
      ],
      "metadata": {
        "colab": {
          "base_uri": "https://localhost:8080/"
        },
        "id": "6PXqyVatY1vN",
        "outputId": "fbd20391-ea59-469e-f63e-de2124097d9d"
      },
      "execution_count": null,
      "outputs": [
        {
          "output_type": "stream",
          "name": "stdout",
          "text": [
            "9\n"
          ]
        }
      ]
    },
    {
      "cell_type": "code",
      "source": [
        "# Write a Python program to detect the number of local variables declared in a function. Sample Output: 3\n",
        "\n",
        "def abc():\n",
        "    x = 1\n",
        "    y = 2\n",
        "    str1= \"w3resource\"\n",
        "    print(\"Python Exercises\")\n",
        "\n",
        "print(abc.__code__.co_nlocals)\n"
      ],
      "metadata": {
        "colab": {
          "base_uri": "https://localhost:8080/"
        },
        "id": "dyXX8f6XY8op",
        "outputId": "4eeb0f96-4140-44af-e9e6-67b22908d9db"
      },
      "execution_count": null,
      "outputs": [
        {
          "output_type": "stream",
          "name": "stdout",
          "text": [
            "3\n"
          ]
        }
      ]
    },
    {
      "cell_type": "code",
      "source": [
        "# Write a Python program that invoke a given function after specific milliseconds. Sample Output: Square root after specific miliseconds: 4.0 10.0 158.42979517754858 \n",
        "\n",
        "from time import sleep\n",
        "import math\n",
        "def delay(fn, ms, *args):\n",
        "  sleep(ms / 1000)\n",
        "  return fn(*args)\n",
        "print(\"Square root after specific miliseconds:\") \n",
        "print(delay(lambda x: math.sqrt(x), 100, 16))\n",
        "print(delay(lambda x: math.sqrt(x), 1000, 100))\n",
        "print(delay(lambda x: math.sqrt(x), 2000, 25100))"
      ],
      "metadata": {
        "colab": {
          "base_uri": "https://localhost:8080/"
        },
        "id": "knH_mcR_ZEKJ",
        "outputId": "b5895375-d3c4-4467-e356-8ab6b810c7a2"
      },
      "execution_count": null,
      "outputs": [
        {
          "output_type": "stream",
          "name": "stdout",
          "text": [
            "Square root after specific miliseconds:\n",
            "4.0\n",
            "10.0\n",
            "158.42979517754858\n"
          ]
        }
      ]
    },
    {
      "cell_type": "code",
      "source": [
        ""
      ],
      "metadata": {
        "id": "8shGT054ZTY0"
      },
      "execution_count": null,
      "outputs": []
    }
  ]
}