{
  "nbformat": 4,
  "nbformat_minor": 0,
  "metadata": {
    "colab": {
      "name": "Python 3 7/30 Derrick Park ",
      "provenance": [],
      "authorship_tag": "ABX9TyOPKGJxPPufkHnR3J+V5+cT",
      "include_colab_link": true
    },
    "kernelspec": {
      "name": "python3",
      "display_name": "Python 3"
    },
    "language_info": {
      "name": "python"
    }
  },
  "cells": [
    {
      "cell_type": "markdown",
      "metadata": {
        "id": "view-in-github",
        "colab_type": "text"
      },
      "source": [
        "<a href=\"https://colab.research.google.com/github/parkd25/Test-Project-/blob/main/7_30_Session_3_Python_Project.ipynb\" target=\"_parent\"><img src=\"https://colab.research.google.com/assets/colab-badge.svg\" alt=\"Open In Colab\"/></a>"
      ]
    },
    {
      "cell_type": "code",
      "execution_count": null,
      "metadata": {
        "colab": {
          "base_uri": "https://localhost:8080/"
        },
        "id": "Q3CrFZCqgyBJ",
        "outputId": "f9f41f5b-645e-4c63-c702-abbaf99a022c"
      },
      "outputs": [
        {
          "output_type": "stream",
          "name": "stdout",
          "text": [
            "What's x? cat\n",
            " is not an integer\n"
          ]
        }
      ],
      "source": [
        "try: \n",
        "  x = int(input(\"What's x? \"))\n",
        "  printf(f\"x is {x}\")\n",
        "except ValueError: \n",
        "  print(\" is not an integer\")\n"
      ]
    },
    {
      "cell_type": "code",
      "source": [
        "try: \n",
        "  x = int(input(\"What's x?\"))\n",
        "except ValueError: \n",
        "  print(\"x is not an integer\")\n",
        "else: \n",
        "  printf(f\"x is {x}\")\n"
      ],
      "metadata": {
        "colab": {
          "base_uri": "https://localhost:8080/"
        },
        "id": "wxgEa8QThPN6",
        "outputId": "40df8e8e-f269-4477-c3e0-88af55636c22"
      },
      "execution_count": null,
      "outputs": [
        {
          "output_type": "stream",
          "name": "stdout",
          "text": [
            "What's x?cat \n",
            "x is not an integer\n"
          ]
        }
      ]
    },
    {
      "cell_type": "code",
      "source": [
        "while True: \n",
        "  try: \n",
        "    x = int(input(\"What's x?\"))\n",
        "  except ValueError: \n",
        "    print(\"x is not an integer\")\n",
        "  else: \n",
        "    break \n",
        "\n",
        "print(f\"x is {x}\") "
      ],
      "metadata": {
        "colab": {
          "base_uri": "https://localhost:8080/"
        },
        "id": "IgIZEvBhibC1",
        "outputId": "79459011-e0e3-4ab0-b159-4378fae3bf0a"
      },
      "execution_count": null,
      "outputs": [
        {
          "output_type": "stream",
          "name": "stdout",
          "text": [
            "What's x?cat\n",
            "x is not an integer\n",
            "What's x?2\n",
            "x is 2\n"
          ]
        }
      ]
    },
    {
      "cell_type": "code",
      "source": [
        "def main(): \n",
        "  x = get_int()\n",
        "  print(f\"x is {x}\")\n",
        "\n",
        "def get_int(): \n",
        "  while True: \n",
        "    try: \n",
        "      x = int(input(\"What's x?\"))\n",
        "    except ValueError:\n",
        "      print(\"x is not an integer\")\n",
        "    else: \n",
        "      break \n",
        "  return x \n",
        "\n",
        "main()"
      ],
      "metadata": {
        "colab": {
          "base_uri": "https://localhost:8080/"
        },
        "id": "MtB-g2qti2iv",
        "outputId": "5be86e10-ab35-4226-b322-bc2e1c18c4de"
      },
      "execution_count": null,
      "outputs": [
        {
          "output_type": "stream",
          "name": "stdout",
          "text": [
            "What's x?cat\n",
            "x is not an integer\n",
            "What's x?2\n",
            "x is 2\n"
          ]
        }
      ]
    },
    {
      "cell_type": "code",
      "source": [
        "def main(): \n",
        "  x = get_int()\n",
        "  print(f\"x is {x}\")\n",
        "\n",
        "def get_int(): \n",
        "  while True: \n",
        "    try: \n",
        "      x = int(input(\"What's x?\"))\n",
        "    except ValueError: \n",
        "      print(\"x is not an integer\")\n",
        "    else: \n",
        "      return x \n",
        "\n",
        "main()"
      ],
      "metadata": {
        "colab": {
          "base_uri": "https://localhost:8080/"
        },
        "id": "GJmrr-e-lEA0",
        "outputId": "944c5e30-a7e1-4c76-bbe4-4eb336f48129"
      },
      "execution_count": null,
      "outputs": [
        {
          "output_type": "stream",
          "name": "stdout",
          "text": [
            "What's x?cat\n",
            "x is not an integer\n",
            "What's x?2\n",
            "x is 2\n"
          ]
        }
      ]
    },
    {
      "cell_type": "code",
      "source": [
        "def main(): \n",
        "  x = get_int()\n",
        "  print(f\"x is {x}\")\n",
        "\n",
        "def get_int(): \n",
        "  while True: \n",
        "    try: \n",
        "      return int(input(\"What's x?\"))\n",
        "    except ValueError: \n",
        "      print(\"x is not an integer\") \n",
        "\n",
        "main()"
      ],
      "metadata": {
        "colab": {
          "base_uri": "https://localhost:8080/"
        },
        "id": "7hd1w7rvlkx5",
        "outputId": "b9b45175-84f5-4fa5-9560-d169467ad8bc"
      },
      "execution_count": null,
      "outputs": [
        {
          "output_type": "stream",
          "name": "stdout",
          "text": [
            "What's x?cat \n",
            "x is not an integer\n",
            "What's x?2 \n",
            "x is 2\n"
          ]
        }
      ]
    },
    {
      "cell_type": "code",
      "source": [
        "def main(): \n",
        "  x = get_int()\n",
        "  print(f\"x is {x}\")\n",
        "\n",
        "def get_int(): \n",
        "  while True: \n",
        "    try: \n",
        "      return int(input(\"What's x?\"))\n",
        "    except ValueError: \n",
        "      pass \n",
        "\n",
        "main()"
      ],
      "metadata": {
        "colab": {
          "base_uri": "https://localhost:8080/"
        },
        "id": "yDUqp26XmF_E",
        "outputId": "11a733d4-67f1-4175-a86b-f0395bb91054"
      },
      "execution_count": null,
      "outputs": [
        {
          "output_type": "stream",
          "name": "stdout",
          "text": [
            "What's x?cat \n",
            "What's x?2 \n",
            "x is 2\n"
          ]
        }
      ]
    },
    {
      "cell_type": "code",
      "source": [
        "def main(): \n",
        "  x = get_int(\"What's x?\")\n",
        "  print(f\"x is {x}\")\n",
        "\n",
        "def get_int(prompt): \n",
        "  while True: \n",
        "    try: \n",
        "      return int(input(prompt))\n",
        "    except ValueError: \n",
        "      pass \n",
        "\n",
        "main()"
      ],
      "metadata": {
        "colab": {
          "base_uri": "https://localhost:8080/"
        },
        "id": "0lWAj7A0mZzI",
        "outputId": "9fc6e9f7-874f-4e1e-90fd-8ddb0442ee2b"
      },
      "execution_count": null,
      "outputs": [
        {
          "output_type": "stream",
          "name": "stdout",
          "text": [
            "What's x?cat\n",
            "What's x?2\n",
            "x is 2\n"
          ]
        }
      ]
    },
    {
      "cell_type": "code",
      "source": [
        "import random \n",
        "\n",
        "coin = random.choice([\"heads\", \"tails\"])\n",
        "print(coin)"
      ],
      "metadata": {
        "colab": {
          "base_uri": "https://localhost:8080/"
        },
        "id": "VDdLX19mnRX9",
        "outputId": "688f20b9-d0f4-4439-a294-4ec72047d4e5"
      },
      "execution_count": null,
      "outputs": [
        {
          "output_type": "stream",
          "name": "stdout",
          "text": [
            "tails\n"
          ]
        }
      ]
    },
    {
      "cell_type": "code",
      "source": [
        "from random import choice \n",
        "\n",
        "coin = choice([\"heads\", \"tails\"])\n",
        "print(coin)"
      ],
      "metadata": {
        "colab": {
          "base_uri": "https://localhost:8080/"
        },
        "id": "Li9H08s4oqSC",
        "outputId": "2aff3250-1243-4ccd-bdbf-9cb734b7a578"
      },
      "execution_count": null,
      "outputs": [
        {
          "output_type": "stream",
          "name": "stdout",
          "text": [
            "tails\n"
          ]
        }
      ]
    },
    {
      "cell_type": "code",
      "source": [
        "import random\n",
        "cards = [\"jack\", \"queen\", \"king\"]\n",
        "random.shuffle(cards)\n",
        "for card in cards: \n",
        "  print(card)"
      ],
      "metadata": {
        "colab": {
          "base_uri": "https://localhost:8080/"
        },
        "id": "-XsNpkaKpQ6s",
        "outputId": "946a69c7-ebf3-46ad-ad84-6f1a2b2b394b"
      },
      "execution_count": null,
      "outputs": [
        {
          "output_type": "stream",
          "name": "stdout",
          "text": [
            "king\n",
            "jack\n",
            "queen\n"
          ]
        }
      ]
    },
    {
      "cell_type": "code",
      "source": [
        "import statistics \n",
        "\n",
        "print(statistics.mean([100, 90]))"
      ],
      "metadata": {
        "colab": {
          "base_uri": "https://localhost:8080/"
        },
        "id": "5ead7DjnqALI",
        "outputId": "03a67662-7069-4aa4-c32a-33d91a6f977c"
      },
      "execution_count": null,
      "outputs": [
        {
          "output_type": "stream",
          "name": "stdout",
          "text": [
            "95\n"
          ]
        }
      ]
    },
    {
      "cell_type": "code",
      "source": [
        "from statistics import median \n",
        "from math import isnan \n",
        "from itertools import filterfalse \n",
        "\n",
        "data = [20.7, float('NaN'), 19.2, 18.3, float('NaN'), 14.4]\n",
        "sorted(data)\n",
        "# [20.7, nan, 14.4, 18.3, 19.2, nan]\n",
        "median(data)\n",
        "# 16.35 \n",
        "\n",
        "sum(map(isnan, data))\n",
        "# 2\n",
        "clean = list(filterfalse(isnan, data)) \n",
        "clean \n",
        "# [20.7, 19.2, 18.3, 14.4]\n",
        "sorted(clean) \n",
        "# [14.4, 18.3, 19.2, 20.7]\n",
        "median(clean) \n",
        "# 18.75 "
      ],
      "metadata": {
        "colab": {
          "base_uri": "https://localhost:8080/"
        },
        "id": "23MQysjVqj-3",
        "outputId": "cb0065a5-f51a-47f5-e534-42f3f0e2599f"
      },
      "execution_count": null,
      "outputs": [
        {
          "output_type": "execute_result",
          "data": {
            "text/plain": [
              "18.75"
            ]
          },
          "metadata": {},
          "execution_count": 62
        }
      ]
    },
    {
      "cell_type": "code",
      "source": [
        "import sys \n",
        "\n",
        "print(\"hello, my name is\", sys.argv[1])"
      ],
      "metadata": {
        "colab": {
          "base_uri": "https://localhost:8080/"
        },
        "id": "aYDKvhc1sYsd",
        "outputId": "6f6ee8e4-962a-413f-8d48-7e8efeb65912"
      },
      "execution_count": null,
      "outputs": [
        {
          "output_type": "stream",
          "name": "stdout",
          "text": [
            "hello, my name is -f\n"
          ]
        }
      ]
    },
    {
      "cell_type": "code",
      "source": [
        "%%writefile greetingsd.py \n",
        "\n",
        "my_name = \"Derrick\"\n",
        "number_of_pets = 1 \n",
        "\n",
        "print(\"My name is {} and I have {} pet(s).\".format(my_name, number_of_pets))"
      ],
      "metadata": {
        "colab": {
          "base_uri": "https://localhost:8080/"
        },
        "id": "RdmZoteNszxQ",
        "outputId": "c4214135-8abe-421f-956b-542a19bd8946"
      },
      "execution_count": null,
      "outputs": [
        {
          "output_type": "stream",
          "name": "stdout",
          "text": [
            "Writing greetingsd.py\n"
          ]
        }
      ]
    },
    {
      "cell_type": "code",
      "source": [
        "%run greetingsd.py\n"
      ],
      "metadata": {
        "colab": {
          "base_uri": "https://localhost:8080/"
        },
        "id": "GCc8yoBktd5g",
        "outputId": "b364c52c-3d2c-4530-911c-15030d3858ba"
      },
      "execution_count": null,
      "outputs": [
        {
          "output_type": "stream",
          "name": "stdout",
          "text": [
            "My name is Derrick and I have 1 pet(s).\n"
          ]
        }
      ]
    },
    {
      "cell_type": "code",
      "source": [
        "%%writefile print_sys_argva.py\n",
        "\n",
        "import sys \n",
        "\n",
        "print(\"Length of sys.argv: {}\".format(len(sys.argv)))\n",
        "\n",
        "print(sys.argv) \n",
        "\n",
        "for arg in sys.argv: \n",
        "  print(\"{}: {}\".format(arg, type(arg)))"
      ],
      "metadata": {
        "colab": {
          "base_uri": "https://localhost:8080/"
        },
        "id": "OKXb7XMouYBh",
        "outputId": "5079e680-88c2-4a1c-833d-00b36383866d"
      },
      "execution_count": null,
      "outputs": [
        {
          "output_type": "stream",
          "name": "stdout",
          "text": [
            "Writing print_sys_argva.py\n"
          ]
        }
      ]
    },
    {
      "cell_type": "code",
      "source": [
        "%run print_sys_argva.py argument_1 2 3.0 "
      ],
      "metadata": {
        "colab": {
          "base_uri": "https://localhost:8080/"
        },
        "id": "doxDcq_Fu0Fn",
        "outputId": "b28a503b-affc-4630-a0bc-62446a2c64c1"
      },
      "execution_count": null,
      "outputs": [
        {
          "output_type": "stream",
          "name": "stdout",
          "text": [
            "Length of sys.argv: 4\n",
            "['print_sys_argva.py', 'argument_1', '2', '3.0']\n",
            "print_sys_argva.py: <class 'str'>\n",
            "argument_1: <class 'str'>\n",
            "2: <class 'str'>\n",
            "3.0: <class 'str'>\n"
          ]
        }
      ]
    },
    {
      "cell_type": "code",
      "source": [
        "%%writefile greetings_cli.py \n",
        "\n",
        "import sys\n",
        "\n",
        "my_name = sys.argv[1]\n",
        "number_of_pets = sys.argv[2]\n",
        "\n",
        "print(\"My name is {} and I have {} pet(s).\".format(my_name, number_of_pets))"
      ],
      "metadata": {
        "colab": {
          "base_uri": "https://localhost:8080/"
        },
        "id": "EbYqqgf_vCpz",
        "outputId": "34ee9132-3b5a-47a3-8917-9bdceda76036"
      },
      "execution_count": null,
      "outputs": [
        {
          "output_type": "stream",
          "name": "stdout",
          "text": [
            "Writing greetings_cli.py\n"
          ]
        }
      ]
    },
    {
      "cell_type": "code",
      "source": [
        "%run greetings_cli.py Derrick 1 "
      ],
      "metadata": {
        "colab": {
          "base_uri": "https://localhost:8080/"
        },
        "id": "YBgeg_Arwo5X",
        "outputId": "5ed2674e-b311-4736-8fc9-d92c2b32f814"
      },
      "execution_count": null,
      "outputs": [
        {
          "output_type": "stream",
          "name": "stdout",
          "text": [
            "My name is Derrick and I have 1 pet(s).\n"
          ]
        }
      ]
    },
    {
      "cell_type": "code",
      "source": [
        "%%writefile greetingsc_cli.py \n",
        "\n",
        "import sys \n",
        "\n",
        "try: \n",
        "  print(\"hello, my name is\", sys.argv[1]) \n",
        "except IndexError: \n",
        "  print(\"Too few arguments\")\n",
        "\n"
      ],
      "metadata": {
        "colab": {
          "base_uri": "https://localhost:8080/"
        },
        "id": "vt2mFp4Iw61T",
        "outputId": "5ed9e082-fd3d-41ac-a2fe-a2ac4eba93ae"
      },
      "execution_count": null,
      "outputs": [
        {
          "output_type": "stream",
          "name": "stdout",
          "text": [
            "Writing greetingsc_cli.py\n"
          ]
        }
      ]
    },
    {
      "cell_type": "code",
      "source": [
        "%run greetingsc_cli.py Derrick 1 "
      ],
      "metadata": {
        "colab": {
          "base_uri": "https://localhost:8080/"
        },
        "id": "oOEY6SrM0nJS",
        "outputId": "53a50ba0-d14b-44e5-eb89-dc02d752528a"
      },
      "execution_count": null,
      "outputs": [
        {
          "output_type": "stream",
          "name": "stdout",
          "text": [
            "hello, my name is Derrick\n"
          ]
        }
      ]
    },
    {
      "cell_type": "code",
      "source": [
        "%%writefile greetingsb_cli.py \n",
        "\n",
        "import sys \n",
        "\n",
        "if len(sys.argv) < 2: \n",
        "  print(\"Too few arguments\")\n",
        "elif len(sys.argv) > 2: \n",
        "  print(\"Too many arguments\")\n",
        "else: \n",
        "  print(\"hello, my name is\", sys.argv[1]) "
      ],
      "metadata": {
        "colab": {
          "base_uri": "https://localhost:8080/"
        },
        "id": "4x8Y2fna1PAv",
        "outputId": "d4451f6d-9d91-47b8-af75-0f47a0bceecc"
      },
      "execution_count": null,
      "outputs": [
        {
          "output_type": "stream",
          "name": "stdout",
          "text": [
            "Writing greetingsb_cli.py\n"
          ]
        }
      ]
    },
    {
      "cell_type": "code",
      "source": [
        "%run greetingsb_cli.py Derrick"
      ],
      "metadata": {
        "colab": {
          "base_uri": "https://localhost:8080/"
        },
        "id": "xayWdkc61lxu",
        "outputId": "5b25f0ee-c671-4443-c887-2bab9f71726a"
      },
      "execution_count": null,
      "outputs": [
        {
          "output_type": "stream",
          "name": "stdout",
          "text": [
            "hello, my name is Derrick\n"
          ]
        }
      ]
    },
    {
      "cell_type": "code",
      "source": [
        "%run greetings_cli.py Derrick %%writefile greetingsa_cli.py \n",
        "\n",
        "import sys \n",
        "\n",
        "if len(sys.argv) < 2: \n",
        "  sys.exit(\"Too few arguments\")\n",
        "elif len(sys.argv) > 2: \n",
        "  sys.exit(\"Too many arguments\")\n",
        "\n",
        "print(\"hello, my name is\", sys.argv[1])\n"
      ],
      "metadata": {
        "colab": {
          "base_uri": "https://localhost:8080/"
        },
        "id": "ED02u9T93Drx",
        "outputId": "16990882-94a4-49d9-daaa-878d4dcf16e6"
      },
      "execution_count": null,
      "outputs": [
        {
          "output_type": "stream",
          "name": "stdout",
          "text": [
            "Writing greetingsa_cli.py\n"
          ]
        }
      ]
    },
    {
      "cell_type": "code",
      "source": [
        "%run greetingsa_cli.py Derrick "
      ],
      "metadata": {
        "colab": {
          "base_uri": "https://localhost:8080/"
        },
        "id": "OYiyxREv3cBa",
        "outputId": "434b246a-bf96-4e3c-8d6e-8b20bd9e193b"
      },
      "execution_count": null,
      "outputs": [
        {
          "output_type": "stream",
          "name": "stdout",
          "text": [
            "hello, my name is Derrick\n"
          ]
        }
      ]
    },
    {
      "cell_type": "code",
      "source": [
        "%%writefile greeting_cli.py \n",
        "\n",
        "import sys\n",
        "\n",
        "if len(sys.argv) < 2: \n",
        "  sys.exit(\"Too few arguments\")\n",
        "\n",
        "for arg in sys.argv[1:]: \n",
        "  print(\"hello, my name is\", arg)"
      ],
      "metadata": {
        "colab": {
          "base_uri": "https://localhost:8080/"
        },
        "id": "KzG8pXeL39Ix",
        "outputId": "e74ac3be-c81e-448a-fc8f-a003658f0fd2"
      },
      "execution_count": null,
      "outputs": [
        {
          "output_type": "stream",
          "name": "stdout",
          "text": [
            "Writing greeting_cli.py\n"
          ]
        }
      ]
    },
    {
      "cell_type": "code",
      "source": [
        "%run greetings_cli.py Derrick "
      ],
      "metadata": {
        "colab": {
          "base_uri": "https://localhost:8080/"
        },
        "id": "H3HDjRz9429v",
        "outputId": "77d7aea6-bc5e-4c09-c203-fe6e2817ffd1"
      },
      "execution_count": null,
      "outputs": [
        {
          "output_type": "stream",
          "name": "stdout",
          "text": [
            "hello, my name is Derrick\n"
          ]
        }
      ]
    },
    {
      "cell_type": "code",
      "source": [
        "pip install cowsay "
      ],
      "metadata": {
        "colab": {
          "base_uri": "https://localhost:8080/"
        },
        "id": "xDTFmgnZ542u",
        "outputId": "52558039-613c-44d3-c2c5-90173a3e1f90"
      },
      "execution_count": null,
      "outputs": [
        {
          "output_type": "stream",
          "name": "stdout",
          "text": [
            "Looking in indexes: https://pypi.org/simple, https://us-python.pkg.dev/colab-wheels/public/simple/\n",
            "Collecting cowsay\n",
            "  Downloading cowsay-5.0.tar.gz (25 kB)\n",
            "Building wheels for collected packages: cowsay\n",
            "  Building wheel for cowsay (setup.py) ... \u001b[?25l\u001b[?25hdone\n",
            "  Created wheel for cowsay: filename=cowsay-5.0-py2.py3-none-any.whl size=25725 sha256=73b126e2f041ecf1b4238a0990baa4af305bf74c61219173aad837a5cb6a58b6\n",
            "  Stored in directory: /root/.cache/pip/wheels/ec/64/04/df66e4b3e5afa8fc293c3c5fae0269a55b80f381d833010aeb\n",
            "Successfully built cowsay\n",
            "Installing collected packages: cowsay\n",
            "Successfully installed cowsay-5.0\n"
          ]
        }
      ]
    },
    {
      "cell_type": "code",
      "source": [
        "%%writefile greetingd_cli.py \n",
        "\n",
        "import cowsay \n",
        "import sys \n",
        "\n",
        "if len(sys.argv) == 2: \n",
        "  cowsay.cow(\"hello, \" + sys.argv[1])\n",
        "  "
      ],
      "metadata": {
        "colab": {
          "base_uri": "https://localhost:8080/"
        },
        "id": "odatoNfr6sou",
        "outputId": "312c982d-23a2-485f-d4d0-a97844b59c50"
      },
      "execution_count": null,
      "outputs": [
        {
          "output_type": "stream",
          "name": "stdout",
          "text": [
            "Overwriting greetingd_cli.py\n"
          ]
        }
      ]
    },
    {
      "cell_type": "code",
      "source": [
        "%run greetingd_cli.py Derrick "
      ],
      "metadata": {
        "colab": {
          "base_uri": "https://localhost:8080/"
        },
        "id": "4zLQeWa36u67",
        "outputId": "8658f393-31b7-4068-9ac8-fcddb85602bc"
      },
      "execution_count": null,
      "outputs": [
        {
          "output_type": "stream",
          "name": "stdout",
          "text": [
            "  ______________\n",
            "| hello, Derrick |\n",
            "  ==============\n",
            "              \\\n",
            "               \\\n",
            "                 ^__^\n",
            "                 (oo)\\_______\n",
            "                 (__)\\       )\\/\\\n",
            "                     ||----w |\n",
            "                     ||     ||\n"
          ]
        }
      ]
    },
    {
      "cell_type": "code",
      "source": [
        "%%writefile greetinge_cli.py \n",
        "\n",
        "import cowsay \n",
        "import sys \n",
        "\n",
        "if len(sys.argv) == 2: \n",
        "  cowsay.trex(\"hello, \" + sys.argv[1])"
      ],
      "metadata": {
        "colab": {
          "base_uri": "https://localhost:8080/"
        },
        "id": "7-SDwzE86190",
        "outputId": "28309d9a-2549-4c7e-8769-c9a736647cec"
      },
      "execution_count": null,
      "outputs": [
        {
          "output_type": "stream",
          "name": "stdout",
          "text": [
            "Writing greetinge_cli.py\n"
          ]
        }
      ]
    },
    {
      "cell_type": "code",
      "source": [
        "%run greetinge_cli.py Derrick "
      ],
      "metadata": {
        "colab": {
          "base_uri": "https://localhost:8080/"
        },
        "id": "yC9ELU6x682T",
        "outputId": "a8b5a228-25fa-491a-abfe-10763904246a"
      },
      "execution_count": null,
      "outputs": [
        {
          "output_type": "stream",
          "name": "stdout",
          "text": [
            "  ______________\n",
            "| hello, Derrick |\n",
            "  ==============\n",
            "                     \\\n",
            "                      \\\n",
            "                       \\\n",
            "                        \\\n",
            "                           .-=-==--==--.\n",
            "                     ..-==\"  ,'o`)      `.\n",
            "                   ,'         `\"'         \\\n",
            "                  :  (                     `.__...._\n",
            "                  |                  )    /         `-=-.\n",
            "                  :       ,vv.-._   /    /               `---==-._\n",
            "                   \\/\\/\\/VV ^ d88`;'    /                         `.\n",
            "                       ``  ^/d88P!'    /             ,              `._\n",
            "                          ^/    !'   ,.      ,      /                  \"-,,__,,--'\"\"\"\"-.\n",
            "                         ^/    !'  ,'  \\ . .(      (         _           )  ) ) ) ))_,-.\\\n",
            "                        ^(__ ,!',\"'   ;:+.:%:a.     \\:.. . ,'          )  )  ) ) ,\"'    '\n",
            "                        ',,,'','     /o:::\":%:%a.    \\:.:.:         .    )  ) _,'\n",
            "                         \"\"\"'       ;':::'' `+%%%a._  \\%:%|         ;.). _,-\"\"\n",
            "                                ,-='_.-'      ``:%::)  )%:|        /:._,\"\n",
            "                               (/(/\"           ,\" ,'_,'%%%:       (_,'\n",
            "                                              (  (//(`.___;        \\\n",
            "                                               \\     \\    `         `\n",
            "                                                `.    `.   `.        :\n",
            "                                                  \\. . .\\    : . . . :\n",
            "                                                   \\. . .:    `.. . .:\n",
            "                                                    `..:.:\\     \\:...\\\n",
            "                                                     ;:.:.;      ::...:\n",
            "                                                     ):%::       :::::;\n",
            "                                                 __,::%:(        :::::\n",
            "                                              ,;:%%%%%%%:        ;:%::\n",
            "                                                ;,--\"\"-.`\\  ,=--':%:%:\\\n",
            "                                               /\"       \"| /-\".:%%%%%%%\\\n",
            "                                                               ;,-\"'`)%%)\n",
            "                                                              /\"      \"|\n"
          ]
        }
      ]
    },
    {
      "cell_type": "code",
      "source": [
        "%%writefile greetingf_cli.py \n",
        "\n",
        "import requests \n",
        "import sys \n",
        "\n",
        "if len(sys.argv) != 2: \n",
        "  sys.exit()\n",
        "\n",
        "response = requests.get(\"https://itunes.apple.com/search?entity=song&limit=1&term=\" + sys.argv[1])\n",
        "print(response.json())"
      ],
      "metadata": {
        "colab": {
          "base_uri": "https://localhost:8080/"
        },
        "id": "hHSBKSUh73dq",
        "outputId": "8ea80c55-409d-4a94-929f-c1dd2341e76f"
      },
      "execution_count": null,
      "outputs": [
        {
          "output_type": "stream",
          "name": "stdout",
          "text": [
            "Overwriting greetingf_cli.py\n"
          ]
        }
      ]
    },
    {
      "cell_type": "code",
      "source": [
        "%run greetingf_cli.py Derrick "
      ],
      "metadata": {
        "colab": {
          "base_uri": "https://localhost:8080/"
        },
        "id": "YaXkjEcq-ZS1",
        "outputId": "a200e763-97f6-4188-a4dc-43a17d5b0aaf"
      },
      "execution_count": null,
      "outputs": [
        {
          "output_type": "stream",
          "name": "stdout",
          "text": [
            "{'resultCount': 1, 'results': [{'wrapperType': 'track', 'kind': 'song', 'artistId': 510430712, 'collectionId': 1438639119, 'trackId': 1438639469, 'artistName': 'Willam', 'collectionName': 'Songs in the Key of Nope', 'trackName': 'Derrick', 'collectionCensoredName': 'Songs in the Key of Nope', 'trackCensoredName': 'Derrick', 'artistViewUrl': 'https://music.apple.com/us/artist/willam/510430712?uo=4', 'collectionViewUrl': 'https://music.apple.com/us/album/derrick/1438639119?i=1438639469&uo=4', 'trackViewUrl': 'https://music.apple.com/us/album/derrick/1438639119?i=1438639469&uo=4', 'previewUrl': 'https://audio-ssl.itunes.apple.com/itunes-assets/AudioPreview122/v4/73/73/e9/7373e94a-0301-62f8-9405-62f57caff668/mzaf_12875415315822398705.plus.aac.p.m4a', 'artworkUrl30': 'https://is5-ssl.mzstatic.com/image/thumb/Music124/v4/a5/df/0a/a5df0ab7-bbf4-1984-3aad-02eda4072245/859729013613_cover.jpg/30x30bb.jpg', 'artworkUrl60': 'https://is5-ssl.mzstatic.com/image/thumb/Music124/v4/a5/df/0a/a5df0ab7-bbf4-1984-3aad-02eda4072245/859729013613_cover.jpg/60x60bb.jpg', 'artworkUrl100': 'https://is5-ssl.mzstatic.com/image/thumb/Music124/v4/a5/df/0a/a5df0ab7-bbf4-1984-3aad-02eda4072245/859729013613_cover.jpg/100x100bb.jpg', 'collectionPrice': 8.91, 'trackPrice': 0.99, 'releaseDate': '2018-11-20T12:00:00Z', 'collectionExplicitness': 'explicit', 'trackExplicitness': 'notExplicit', 'discCount': 1, 'discNumber': 1, 'trackCount': 9, 'trackNumber': 7, 'trackTimeMillis': 173129, 'country': 'USA', 'currency': 'USD', 'primaryGenreName': 'Pop', 'isStreamable': True}]}\n"
          ]
        }
      ]
    },
    {
      "cell_type": "code",
      "source": [
        "%%writefile sayings.py\n",
        "def hello(name): \n",
        "  print(f\"hello, {name}\")\n",
        "\n",
        "def goodbye(name): \n",
        "  print(f\"goodbye, {name}\")"
      ],
      "metadata": {
        "colab": {
          "base_uri": "https://localhost:8080/"
        },
        "id": "RofV30rq_ket",
        "outputId": "05d642bc-0d33-43fe-e3a3-36d45318725a"
      },
      "execution_count": null,
      "outputs": [
        {
          "output_type": "stream",
          "name": "stdout",
          "text": [
            "Writing sayings.py\n"
          ]
        }
      ]
    },
    {
      "cell_type": "code",
      "source": [
        "%%writefile say.py\n",
        "\n",
        "import sys \n",
        "\n",
        "from sayings import goodbye \n",
        "\n",
        "if len(sys.argv) == 2: \n",
        "  goodbye(sys.argv[1])"
      ],
      "metadata": {
        "colab": {
          "base_uri": "https://localhost:8080/"
        },
        "id": "cI5fUOio_y56",
        "outputId": "24a0ae1a-28ed-4e0f-ee69-dcf48304cf2a"
      },
      "execution_count": null,
      "outputs": [
        {
          "output_type": "stream",
          "name": "stdout",
          "text": [
            "Overwriting say.py\n"
          ]
        }
      ]
    },
    {
      "cell_type": "code",
      "source": [
        "%run say.py Derrick "
      ],
      "metadata": {
        "colab": {
          "base_uri": "https://localhost:8080/"
        },
        "id": "9Yz-TzajABcl",
        "outputId": "55ece6c4-3b7d-4fc3-a124-82500efc3587"
      },
      "execution_count": null,
      "outputs": [
        {
          "output_type": "stream",
          "name": "stdout",
          "text": [
            "goodbye, Derrick\n"
          ]
        }
      ]
    },
    {
      "cell_type": "code",
      "source": [
        "#1. Create a file named greetingh_cli.py \n",
        "#2. import systems of cowsay and library \n",
        "#3. if the argument length is less than 2, print \"Too few argument\" / if the argument length is greater than 2, print \"Too many argument\" \n",
        "#4. if the argument length is equal to 2, print a pig with \"hello, {argument}\"\n",
        "%%writefile greetingh_cli.py \n",
        "\n",
        "import cowsay \n",
        "import sys \n",
        "\n",
        "\n",
        "if len(sys.argv) < 2: \n",
        "  print(\"Too few argument\")\n",
        "elif len(sys.argv) > 2: \n",
        "  print(\"Too many arguments\")\n",
        "else:\n",
        "  cowsay.pig(\"hello, \" + sys.argv[1])\n"
      ],
      "metadata": {
        "colab": {
          "base_uri": "https://localhost:8080/"
        },
        "id": "N6sUX8uEAzcg",
        "outputId": "693754d1-e02b-4b40-bfab-1fabca0e79a8"
      },
      "execution_count": null,
      "outputs": [
        {
          "output_type": "stream",
          "name": "stdout",
          "text": [
            "Overwriting greetingh_cli.py\n"
          ]
        }
      ]
    },
    {
      "cell_type": "code",
      "source": [
        "%run greetingh_cli.py sdfdag "
      ],
      "metadata": {
        "colab": {
          "base_uri": "https://localhost:8080/"
        },
        "id": "pmCFy5hmBP3X",
        "outputId": "19d9cee6-e1b8-4575-8eed-bd2692278e3b"
      },
      "execution_count": null,
      "outputs": [
        {
          "output_type": "stream",
          "name": "stdout",
          "text": [
            "  _____________\n",
            "| hello, sdfdag |\n",
            "  =============\n",
            "             \\\n",
            "              \\\n",
            "               \\\n",
            "                \\\n",
            "                          ,.\n",
            "                         (_|,.\n",
            "                         ,' /, )_______   _\n",
            "                     __j o``-'        `.'-)'\n",
            "                     (\")                 \\'\n",
            "                     `-j                |\n",
            "                       `-._(           /\n",
            "                          |_\\  |--^.  /\n",
            "                         /_]'|_| /_)_/\n",
            "                             /_]'  /_]'\n"
          ]
        }
      ]
    }
  ]
}