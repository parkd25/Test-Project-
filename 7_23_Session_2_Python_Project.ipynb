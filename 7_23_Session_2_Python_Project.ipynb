{
  "nbformat": 4,
  "nbformat_minor": 0,
  "metadata": {
    "colab": {
      "name": "7/23 Session 2 : Python Project",
      "provenance": [],
      "authorship_tag": "ABX9TyMFc/xwJUdFWqVqL+SNJKks",
      "include_colab_link": true
    },
    "kernelspec": {
      "name": "python3",
      "display_name": "Python 3"
    },
    "language_info": {
      "name": "python"
    }
  },
  "cells": [
    {
      "cell_type": "markdown",
      "metadata": {
        "id": "view-in-github",
        "colab_type": "text"
      },
      "source": [
        "<a href=\"https://colab.research.google.com/github/parkd25/Test-Project-/blob/main/7_23_Session_2_Python_Project.ipynb\" target=\"_parent\"><img src=\"https://colab.research.google.com/assets/colab-badge.svg\" alt=\"Open In Colab\"/></a>"
      ]
    },
    {
      "cell_type": "code",
      "execution_count": null,
      "metadata": {
        "colab": {
          "base_uri": "https://localhost:8080/"
        },
        "id": "fddffbm0REAQ",
        "outputId": "4e3ecd55-076c-4a8f-b0c1-4722f45c9f20"
      },
      "outputs": [
        {
          "output_type": "stream",
          "name": "stdout",
          "text": [
            "What's your name?Derrick \n",
            "hello,  Derrick \n",
            "Derrick \n",
            "What's your name? Derrick \n",
            "hello,Derrick \n"
          ]
        }
      ],
      "source": [
        "# As the user for their name \n",
        "name = input(\"What's your name?\")\n",
        "\n",
        "# Print hello and the inputted name \n",
        "print(\"hello, \", name) \n",
        "\n",
        "# Print the name inputted \n",
        "print(name)\n",
        "\n",
        "# Ask the use for their name \n",
        "name = input(\"What's your name? \")\n",
        "print (\"hello,\", end=\"\")\n",
        "print(name)"
      ]
    },
    {
      "cell_type": "code",
      "source": [
        "print(\"hello,'friend'\") \n",
        "\n"
      ],
      "metadata": {
        "colab": {
          "base_uri": "https://localhost:8080/"
        },
        "id": "tM-iRXQDJ8aR",
        "outputId": "5950357f-72bf-4428-f72b-063728453fa4"
      },
      "execution_count": null,
      "outputs": [
        {
          "output_type": "stream",
          "name": "stdout",
          "text": [
            "hello,'friend'\n"
          ]
        }
      ]
    },
    {
      "cell_type": "code",
      "source": [
        "print(\"hello, \\\"friend\\\"\")"
      ],
      "metadata": {
        "colab": {
          "base_uri": "https://localhost:8080/"
        },
        "id": "HxoBWDNFKiWQ",
        "outputId": "100697a1-75d4-42ed-e326-812549620c29"
      },
      "execution_count": null,
      "outputs": [
        {
          "output_type": "stream",
          "name": "stdout",
          "text": [
            "hello, \"friend\"\n"
          ]
        }
      ]
    },
    {
      "cell_type": "code",
      "source": [
        "#  Ask the user for their name \n",
        "name = input(\"What's your name? \")\n",
        "print(f\"hello, {name}\")\n"
      ],
      "metadata": {
        "colab": {
          "base_uri": "https://localhost:8080/"
        },
        "id": "4otBtEK-K69G",
        "outputId": "944d21c6-4111-48c7-bbf3-79c20a13928b"
      },
      "execution_count": null,
      "outputs": [
        {
          "output_type": "stream",
          "name": "stdout",
          "text": [
            "What's your name? Derrick \n",
            "hello, Derrick \n"
          ]
        }
      ]
    },
    {
      "cell_type": "code",
      "source": [
        "# Ask the user for their name \n",
        "name = input(\"What's your name? \")\n",
        "\n",
        "# Remove whitespace from the str \n",
        "name = name.split()\n",
        "\n",
        "# Print the output \n",
        "print(f\"hello, {name}\")\n"
      ],
      "metadata": {
        "colab": {
          "base_uri": "https://localhost:8080/"
        },
        "id": "7NN8O8lPLQTH",
        "outputId": "291f103d-3760-49c5-9ed4-ed50fab42e0c"
      },
      "execution_count": null,
      "outputs": [
        {
          "output_type": "stream",
          "name": "stdout",
          "text": [
            "What's your name? Derrick \n",
            "hello, ['Derrick']\n"
          ]
        }
      ]
    },
    {
      "cell_type": "code",
      "source": [
        "# [INPUT] write your name as an input \n",
        "name = input(\"write your name:\")\n",
        "\n",
        "# split input value into a list \n",
        "name = name.split()\n",
        "print(name)\n",
        "\n",
        "# make a joined string value out of the given list \n",
        "print(\"\".join(name))\n",
        "# print(\"\".join(name.split()))"
      ],
      "metadata": {
        "colab": {
          "base_uri": "https://localhost:8080/"
        },
        "id": "Kpg_o4ArL07F",
        "outputId": "6002acdd-ec88-47b3-a709-9fbd47a68b94"
      },
      "execution_count": null,
      "outputs": [
        {
          "output_type": "stream",
          "name": "stdout",
          "text": [
            "write your name:Jihoo Derrick Park \n",
            "['Jihoo', 'Derrick', 'Park']\n",
            "JihooDerrickPark\n"
          ]
        }
      ]
    },
    {
      "cell_type": "code",
      "source": [
        "# Ask the user for their name \n",
        "name = input(\"What's your name? \")\n",
        "\n",
        "# Capitalize the first letter of each word\n",
        "name = name.title()\n",
        "\n",
        "# Print the output \n",
        "print(f\"hello, {name}\")"
      ],
      "metadata": {
        "colab": {
          "base_uri": "https://localhost:8080/"
        },
        "id": "VKYMTQOMOVdD",
        "outputId": "1108e39a-1823-42ab-fb23-817ccfaf2449"
      },
      "execution_count": null,
      "outputs": [
        {
          "output_type": "stream",
          "name": "stdout",
          "text": [
            "What's your name? derrick park \n",
            "hello, Derrick Park \n"
          ]
        }
      ]
    },
    {
      "cell_type": "code",
      "source": [
        "name = input(\"write your name:\")\n",
        "print(\"\".join(name.split()))\n",
        "\n",
        "\n"
      ],
      "metadata": {
        "colab": {
          "base_uri": "https://localhost:8080/"
        },
        "id": "ZppYdt1oOZZO",
        "outputId": "eb8797ff-c97b-4bde-e934-81bc7eb1a575"
      },
      "execution_count": null,
      "outputs": [
        {
          "output_type": "stream",
          "name": "stdout",
          "text": [
            "write your name:Derrick Park \n",
            "DerrickPark\n"
          ]
        }
      ]
    },
    {
      "cell_type": "code",
      "source": [
        "x = 1 \n",
        "y = 2 \n",
        "\n",
        "z = x + y \n",
        "\n",
        "print(z)"
      ],
      "metadata": {
        "colab": {
          "base_uri": "https://localhost:8080/"
        },
        "id": "9itAtjQBP0A_",
        "outputId": "8f60ee4a-459f-4fbe-e773-477e051ed46b"
      },
      "execution_count": null,
      "outputs": [
        {
          "output_type": "stream",
          "name": "stdout",
          "text": [
            "3\n"
          ]
        }
      ]
    },
    {
      "cell_type": "code",
      "source": [
        "x = input(\"What's x? \")\n",
        "y = input(\"What's y? \")\n",
        "\n",
        "z = int(x) + int(y)\n",
        "\n",
        "print(z)"
      ],
      "metadata": {
        "colab": {
          "base_uri": "https://localhost:8080/"
        },
        "id": "mcyVO3L8P7Nt",
        "outputId": "0d481145-4abb-40f3-96ba-f897ce5a8356"
      },
      "execution_count": null,
      "outputs": [
        {
          "output_type": "stream",
          "name": "stdout",
          "text": [
            "What's x? 23\n",
            "What's y? 18 \n",
            "41\n"
          ]
        }
      ]
    },
    {
      "cell_type": "code",
      "source": [
        "x = int(input(\"What's x? \"))\n",
        "y = int(input(\"What's y? \"))\n",
        "\n",
        "print(x + y)\n"
      ],
      "metadata": {
        "colab": {
          "base_uri": "https://localhost:8080/"
        },
        "id": "3YFxG-4_QcHN",
        "outputId": "e1f45b02-c950-4a7c-d2e8-ac90dd4478c1"
      },
      "execution_count": null,
      "outputs": [
        {
          "output_type": "stream",
          "name": "stdout",
          "text": [
            "What's x? 23\n",
            "What's y? 18 \n",
            "41\n"
          ]
        }
      ]
    },
    {
      "cell_type": "code",
      "source": [
        "x = float(input(\"What's x? \"))\n",
        "y = float(input(\"What's y? \"))\n",
        "\n",
        "print(x + y)  \n"
      ],
      "metadata": {
        "colab": {
          "base_uri": "https://localhost:8080/"
        },
        "id": "Dt9pLN7oSvxr",
        "outputId": "622192b9-0f4c-46d5-8860-b5e59da9753b"
      },
      "execution_count": null,
      "outputs": [
        {
          "output_type": "stream",
          "name": "stdout",
          "text": [
            "What's x? 15.27 \n",
            "What's y? 342.112\n",
            "357.382\n"
          ]
        }
      ]
    },
    {
      "cell_type": "code",
      "source": [
        "x = float(input(\"What's x? \"))\n",
        "y = float(input(\"What's y? \"))\n",
        "\n",
        "z = round(x + y) \n",
        "\n",
        "print(z)  \n"
      ],
      "metadata": {
        "colab": {
          "base_uri": "https://localhost:8080/"
        },
        "id": "F21F02x7TG_Q",
        "outputId": "6e0ca9fb-e34f-4374-ecee-073d3748365e"
      },
      "execution_count": null,
      "outputs": [
        {
          "output_type": "stream",
          "name": "stdout",
          "text": [
            "What's x? 23\n",
            "What's y? 18.3\n",
            "41\n"
          ]
        }
      ]
    },
    {
      "cell_type": "code",
      "source": [
        "x = float(input(\"What's x? \"))\n",
        "y = float(input(\"What's y? \"))\n",
        "\n",
        "z = round(x+y)\n",
        "\n",
        "print(f\"{z:,}\")2 \n"
      ],
      "metadata": {
        "colab": {
          "base_uri": "https://localhost:8080/"
        },
        "id": "sEkEVGWjTbxS",
        "outputId": "96d63381-217b-442f-eba9-e1c220df8a77"
      },
      "execution_count": null,
      "outputs": [
        {
          "output_type": "stream",
          "name": "stdout",
          "text": [
            "What's x? 100000\n",
            "What's y? 3000000\n",
            "3,100,000\n"
          ]
        }
      ]
    },
    {
      "cell_type": "code",
      "source": [
        "x = float(input(\"What's x? \"))\n",
        "y = float(input(\"What's y? \"))\n",
        "\n",
        "z = x / y \n",
        "\n",
        "print(z)"
      ],
      "metadata": {
        "colab": {
          "base_uri": "https://localhost:8080/"
        },
        "id": "1IF426D1TzHk",
        "outputId": "47e9557f-944c-40dc-ffeb-21ae343fafe6"
      },
      "execution_count": null,
      "outputs": [
        {
          "output_type": "stream",
          "name": "stdout",
          "text": [
            "What's x? 23\n",
            "What's y? 23\n",
            "1.0\n"
          ]
        }
      ]
    },
    {
      "cell_type": "code",
      "source": [
        "x = float(input(\"What's x? \"))\n",
        "y = float(input(\"What's y? \"))\n",
        "\n",
        "z = round(x/y, 5) \n",
        "\n",
        "print(z)\n",
        "\n"
      ],
      "metadata": {
        "colab": {
          "base_uri": "https://localhost:8080/"
        },
        "id": "M6phdyX0UHDI",
        "outputId": "59787422-ad75-46d4-b86f-0fa3710a0454"
      },
      "execution_count": null,
      "outputs": [
        {
          "output_type": "stream",
          "name": "stdout",
          "text": [
            "What's x? 23\n",
            "What's y? 18\n",
            "1.27778\n"
          ]
        }
      ]
    },
    {
      "cell_type": "code",
      "source": [
        "name = input(\"What's your name? \").title()\n",
        "\n",
        "print(f\"hello, {name}\")"
      ],
      "metadata": {
        "colab": {
          "base_uri": "https://localhost:8080/"
        },
        "id": "Msd6NgYEUneZ",
        "outputId": "1da271b1-96b3-489f-deeb-a1765aaeeadd"
      },
      "execution_count": null,
      "outputs": [
        {
          "output_type": "stream",
          "name": "stdout",
          "text": [
            "What's your name? Derrick Park \n",
            "hello, Derrick Park \n"
          ]
        }
      ]
    },
    {
      "cell_type": "code",
      "source": [
        "def hello(): \n",
        "  print(\"hello\")\n",
        "\n",
        "name = input(\"What's your name? \")\n",
        "hello()\n",
        "print(name)"
      ],
      "metadata": {
        "colab": {
          "base_uri": "https://localhost:8080/"
        },
        "id": "KpqeeQiVUzJA",
        "outputId": "0fd50373-91fe-4f31-8241-78dbf461aa07"
      },
      "execution_count": null,
      "outputs": [
        {
          "output_type": "stream",
          "name": "stdout",
          "text": [
            "What's your name? Derrick Park \n",
            "hello\n",
            "Derrick Park \n"
          ]
        }
      ]
    },
    {
      "cell_type": "code",
      "source": [
        "def hello(to):\n",
        "  print(\"hello,\", to)\n",
        "\n",
        "name = input(\"What's your name? \")\n",
        "hello(name) "
      ],
      "metadata": {
        "colab": {
          "base_uri": "https://localhost:8080/"
        },
        "id": "A795WotVVIzX",
        "outputId": "cf7baa57-4481-4f5f-9d1b-e58d772eaad9"
      },
      "execution_count": null,
      "outputs": [
        {
          "output_type": "stream",
          "name": "stdout",
          "text": [
            "What's your name? Derrick Park \n",
            "hello, Derrick Park \n"
          ]
        }
      ]
    },
    {
      "cell_type": "code",
      "source": [
        "def main(): \n",
        "\n",
        "  name = input(\"What's your name? \") \n",
        "  hello(name) \n",
        "\n",
        "  hello() \n",
        "\n",
        "def hello(to=\"world\"):\n",
        "  print(\"hello,\", to)\n",
        "\n",
        "main()"
      ],
      "metadata": {
        "colab": {
          "base_uri": "https://localhost:8080/"
        },
        "id": "5L84gXCOWM69",
        "outputId": "153388a0-b998-4560-be49-b8d550725769"
      },
      "execution_count": null,
      "outputs": [
        {
          "output_type": "stream",
          "name": "stdout",
          "text": [
            "What's your name? Derrick Park \n",
            "hello, Derrick Park \n",
            "hello, world\n"
          ]
        }
      ]
    },
    {
      "cell_type": "code",
      "source": [
        "def main():\n",
        "  x = int(input(\"What's x? \"))\n",
        "  print(\"x squared is\", square(x))\n",
        "\n",
        "def square(n): \n",
        "  return n * n \n",
        "\n",
        "main()"
      ],
      "metadata": {
        "colab": {
          "base_uri": "https://localhost:8080/"
        },
        "id": "ajRaaAqBXKi4",
        "outputId": "5af8f0d7-2681-449c-dd0a-53abce558df6"
      },
      "execution_count": null,
      "outputs": [
        {
          "output_type": "stream",
          "name": "stdout",
          "text": [
            "What's x? 23\n",
            "x squared is 529\n"
          ]
        }
      ]
    },
    {
      "cell_type": "code",
      "source": [
        "x = int(input(\"What's x? \"))\n",
        "y = int(input(\"What's y? \"))\n",
        "\n",
        "if x < y:\n",
        "  print(\"x is less than y\")\n"
      ],
      "metadata": {
        "colab": {
          "base_uri": "https://localhost:8080/"
        },
        "id": "gcRX01TLZGuw",
        "outputId": "7f82258c-7437-4a90-a286-c6566c1a85aa"
      },
      "execution_count": null,
      "outputs": [
        {
          "output_type": "stream",
          "name": "stdout",
          "text": [
            "What's x? 18\n",
            "What's y? 23\n",
            "x is less than y\n"
          ]
        }
      ]
    },
    {
      "cell_type": "code",
      "source": [
        "x = int(input(\"What's x? \"))\n",
        "y = int(input(\"What's y? \"))\n",
        "\n",
        "if x < y:\n",
        "  print(\"x is less than y\")\n",
        "\n",
        "elif x > y: \n",
        "  print(\"x is greater than y\")\n",
        "\n",
        "elif x ==y: \n",
        "  print(\"x is equal to y\")"
      ],
      "metadata": {
        "colab": {
          "base_uri": "https://localhost:8080/"
        },
        "id": "RXdgNGfQZej8",
        "outputId": "6c6dba1c-4001-4af4-e8e3-cffcfd1f002c"
      },
      "execution_count": null,
      "outputs": [
        {
          "output_type": "stream",
          "name": "stdout",
          "text": [
            "What's x? 23\n",
            "What's y? 18\n",
            "x is greater than y\n"
          ]
        }
      ]
    },
    {
      "cell_type": "code",
      "source": [
        "x = int(input(\"What's x? \"))\n",
        "y = int(input(\"What's y? \"))\n",
        "\n",
        "if x < y or x > y: \n",
        "  print(\"x is not equal to y\")\n",
        "else: \n",
        "  print(\"x is equal to y\")"
      ],
      "metadata": {
        "colab": {
          "base_uri": "https://localhost:8080/"
        },
        "id": "0SWcQDSmZ9sW",
        "outputId": "f1adf9a1-1152-41a9-b07f-8e2c88cacf65"
      },
      "execution_count": null,
      "outputs": [
        {
          "output_type": "stream",
          "name": "stdout",
          "text": [
            "What's x? 23\n",
            "What's y? 18\n",
            "x is not equal to y\n"
          ]
        }
      ]
    },
    {
      "cell_type": "code",
      "source": [
        "x = int(input(\"What's x? \"))\n",
        "y = int(input(\"What's y? \"))\n",
        "\n",
        "if x != y:\n",
        "  print(\"x is not equal to y\")\n",
        "else: \n",
        "  print(\"x is equal to y\")"
      ],
      "metadata": {
        "colab": {
          "base_uri": "https://localhost:8080/"
        },
        "id": "Gu1gwvfxaUEp",
        "outputId": "5bc71590-c711-4a3d-bf62-a020071c44ad"
      },
      "execution_count": null,
      "outputs": [
        {
          "output_type": "stream",
          "name": "stdout",
          "text": [
            "What's x? 23\n",
            "What's y? 18\n",
            "x is not equal to y\n"
          ]
        }
      ]
    },
    {
      "cell_type": "code",
      "source": [
        "x = int(input(\"What's x? \"))\n",
        "y = int(input(\"What's y? \"))\n",
        "\n",
        "if x == y:\n",
        "  print(\"x is equal to y\")\n",
        "else: \n",
        "  print(\"x is not equal to y\")"
      ],
      "metadata": {
        "colab": {
          "base_uri": "https://localhost:8080/"
        },
        "id": "QtrlMwPIaeIP",
        "outputId": "0589103d-9337-4fba-9903-b1e45b37c2b6"
      },
      "execution_count": null,
      "outputs": [
        {
          "output_type": "stream",
          "name": "stdout",
          "text": [
            "What's x? 23\n",
            "What's y? 23\n",
            "x is equal to y\n"
          ]
        }
      ]
    },
    {
      "cell_type": "code",
      "source": [
        "score = int(input(\"Score: \"))\n",
        "\n",
        "if score >= 90 and score <= 100: \n",
        "  print(\"Grade: A\")\n",
        "elif score >=80 and score < 90: \n",
        "  print(\"Grade: B\")\n",
        "elif score >=70 and score < 80: \n",
        "  print(\"Grade: C\")\n",
        "elif score >=60 and score < 70: \n",
        "  print(\"Grade: D\")\n",
        "else: \n",
        "  print(\"Grade: F\")"
      ],
      "metadata": {
        "colab": {
          "base_uri": "https://localhost:8080/"
        },
        "id": "ZtH7w2bhaozb",
        "outputId": "a6511d38-795f-499e-fe63-5566e2b75916"
      },
      "execution_count": null,
      "outputs": [
        {
          "output_type": "stream",
          "name": "stdout",
          "text": [
            "Score: 98\n",
            "Grade: A\n"
          ]
        }
      ]
    },
    {
      "cell_type": "code",
      "source": [
        "score = int(input(\"Score: \"))\n",
        "\n",
        "if 90 <= score <= 100: \n",
        "  print(\"Grade: A\")\n",
        "elif 80 <= score < 90: \n",
        "  print(\"Grade: B\")\n",
        "elif 70 <= score < 80: \n",
        "  print(\"Grade: C\")\n",
        "elif 60 <= score < 70: \n",
        "  print(\"Grade: D\")\n",
        "else: \n",
        "  print(\"Grade: F\")"
      ],
      "metadata": {
        "colab": {
          "base_uri": "https://localhost:8080/"
        },
        "id": "z6rfCC4_bFXr",
        "outputId": "404d4ce8-bdb7-48e7-eb2f-630bf5f4d183"
      },
      "execution_count": null,
      "outputs": [
        {
          "output_type": "stream",
          "name": "stdout",
          "text": [
            "Score: 98\n",
            "Grade: A\n"
          ]
        }
      ]
    },
    {
      "cell_type": "code",
      "source": [
        "score = int(input(\"Score: \"))\n",
        "\n",
        "if score >= 90: \n",
        "  print(\"Grade: A\")\n",
        "elif score >= 80: \n",
        "  print(\"Grade: B\")\n",
        "elif score >= 70: \n",
        "  print(\"Grade: C\")\n",
        "elif score >= 60: \n",
        "  print(\"Grade: D\")\n",
        "else: \n",
        "  print(\"Grade: F\")"
      ],
      "metadata": {
        "colab": {
          "base_uri": "https://localhost:8080/"
        },
        "id": "Qcw-9NPcbyi5",
        "outputId": "f853efc7-1338-4bfc-c566-442649fe528f"
      },
      "execution_count": null,
      "outputs": [
        {
          "output_type": "stream",
          "name": "stdout",
          "text": [
            "Score: 98\n",
            "Grade: A\n"
          ]
        }
      ]
    },
    {
      "cell_type": "code",
      "source": [
        "x = int(input(\"What's x? \"))\n",
        "\n",
        "if x % 2 == 0: \n",
        "  print(\"Even\")\n",
        "\n",
        "else: \n",
        "  print(\"Odd\")\n",
        "  "
      ],
      "metadata": {
        "colab": {
          "base_uri": "https://localhost:8080/"
        },
        "id": "4kRmR4jLcG4E",
        "outputId": "41aa7e88-eb6c-412f-823b-b853b8101cc6"
      },
      "execution_count": null,
      "outputs": [
        {
          "output_type": "stream",
          "name": "stdout",
          "text": [
            "What's x? 38\n",
            "Even\n"
          ]
        }
      ]
    },
    {
      "cell_type": "code",
      "source": [
        "def main(): \n",
        "  x = int(input(\"What's x? \"))\n",
        "  if is_even(x): \n",
        "    print(\"Even\")\n",
        "  else: \n",
        "    print(\"Odd\")\n",
        "\n",
        "def is_even(n):\n",
        "  if n % 1 == 0: \n",
        "    return True \n",
        "  else: \n",
        "    return False \n",
        "\n",
        "main()"
      ],
      "metadata": {
        "colab": {
          "base_uri": "https://localhost:8080/"
        },
        "id": "WHOU7YyIck1_",
        "outputId": "7a2063d2-d6f4-4fce-8f2a-ecdbce77b9ac"
      },
      "execution_count": null,
      "outputs": [
        {
          "output_type": "stream",
          "name": "stdout",
          "text": [
            "What's x? 38\n",
            "Even\n"
          ]
        }
      ]
    },
    {
      "cell_type": "code",
      "source": [
        "def main(): \n",
        "  x = int(input(\"What's x? \"))\n",
        "  if is_even(x): \n",
        "    print('Even')\n",
        "  else: \n",
        "    print(\"Odd\")\n",
        "\n",
        "def is_even(n): \n",
        "  return True if n % 2 == 0 else False \n",
        "\n",
        "main()"
      ],
      "metadata": {
        "colab": {
          "base_uri": "https://localhost:8080/"
        },
        "id": "sOqJCqa3dEz1",
        "outputId": "e4397867-04cf-4b44-c374-86bfb0efedd4"
      },
      "execution_count": null,
      "outputs": [
        {
          "output_type": "stream",
          "name": "stdout",
          "text": [
            "What's x? 38 \n",
            "Even\n"
          ]
        }
      ]
    },
    {
      "cell_type": "code",
      "source": [
        "def main(): \n",
        "  x = int(input(\"What's x? \"))\n",
        "  if is_even(x): \n",
        "    print(\"Even\")\n",
        "  else: \n",
        "    print(\"Odd\")\n",
        "\n",
        "def is_even(n): \n",
        "  return n % 2 == 0 \n",
        "\n",
        "main()"
      ],
      "metadata": {
        "colab": {
          "base_uri": "https://localhost:8080/"
        },
        "id": "A9YSCVnBdisJ",
        "outputId": "f6204be9-e24c-4912-edc5-1bb1236e71ad"
      },
      "execution_count": null,
      "outputs": [
        {
          "output_type": "stream",
          "name": "stdout",
          "text": [
            "What's x? 37\n",
            "Odd\n"
          ]
        }
      ]
    },
    {
      "cell_type": "code",
      "source": [
        "print(\"meow\")\n",
        "print(\"meow\")\n",
        "print(\"meow\")"
      ],
      "metadata": {
        "colab": {
          "base_uri": "https://localhost:8080/"
        },
        "id": "zWQvWYR-d6rS",
        "outputId": "03958ff0-d8b2-4787-a6fa-c6129bffb370"
      },
      "execution_count": null,
      "outputs": [
        {
          "output_type": "stream",
          "name": "stdout",
          "text": [
            "meow\n",
            "meow\n",
            "meow\n"
          ]
        }
      ]
    },
    {
      "cell_type": "code",
      "source": [
        "i = 1 \n",
        "while i <= 3: \n",
        "  print(\"meow\")\n",
        "  i = i + 1 \n",
        "  "
      ],
      "metadata": {
        "colab": {
          "base_uri": "https://localhost:8080/"
        },
        "id": "dvLFHc97eaz1",
        "outputId": "9c6c15b1-f3f1-4863-9a28-e3a2da3b7c65"
      },
      "execution_count": null,
      "outputs": [
        {
          "output_type": "stream",
          "name": "stdout",
          "text": [
            "meow\n",
            "meow\n",
            "meow\n"
          ]
        }
      ]
    },
    {
      "cell_type": "code",
      "source": [
        "i = 0 \n",
        "while i < 3: \n",
        "  print(\"meow\")\n",
        "  i += 1 \n",
        "  "
      ],
      "metadata": {
        "colab": {
          "base_uri": "https://localhost:8080/"
        },
        "id": "zvttmu3Wevru",
        "outputId": "5faca4f7-3e28-4905-e2d3-387bede4b4ea"
      },
      "execution_count": null,
      "outputs": [
        {
          "output_type": "stream",
          "name": "stdout",
          "text": [
            "meow\n",
            "meow\n",
            "meow\n"
          ]
        }
      ]
    },
    {
      "cell_type": "code",
      "source": [
        "for i in [0, 1, 2]: \n",
        "  print(\"meow\")\n"
      ],
      "metadata": {
        "colab": {
          "base_uri": "https://localhost:8080/"
        },
        "id": "o5HURXryfHZx",
        "outputId": "d57dec4c-e903-419b-da7f-5907a6334624"
      },
      "execution_count": null,
      "outputs": [
        {
          "output_type": "stream",
          "name": "stdout",
          "text": [
            "meow\n",
            "meow\n",
            "meow\n"
          ]
        }
      ]
    },
    {
      "cell_type": "code",
      "source": [
        "for i in range(3): \n",
        "  print(\"meow\")"
      ],
      "metadata": {
        "colab": {
          "base_uri": "https://localhost:8080/"
        },
        "id": "hV23HaM_fSb5",
        "outputId": "7d5d33b9-dacc-4ed1-eb26-452ecaffeaf9"
      },
      "execution_count": null,
      "outputs": [
        {
          "output_type": "stream",
          "name": "stdout",
          "text": [
            "meow\n",
            "meow\n",
            "meow\n"
          ]
        }
      ]
    },
    {
      "cell_type": "code",
      "source": [
        "for _ in range(3): \n",
        "  print(\"meow\")"
      ],
      "metadata": {
        "colab": {
          "base_uri": "https://localhost:8080/"
        },
        "id": "0X8GhzRgfhWl",
        "outputId": "b9641917-669b-4563-ce45-e6690daf826c"
      },
      "execution_count": null,
      "outputs": [
        {
          "output_type": "stream",
          "name": "stdout",
          "text": [
            "meow\n",
            "meow\n",
            "meow\n"
          ]
        }
      ]
    },
    {
      "cell_type": "code",
      "source": [
        "print(\"meow\" * 3)"
      ],
      "metadata": {
        "colab": {
          "base_uri": "https://localhost:8080/"
        },
        "id": "xg1gG-7YfXR-",
        "outputId": "faa01afb-8d64-4f78-f4f5-3cd9107c28b6"
      },
      "execution_count": null,
      "outputs": [
        {
          "output_type": "stream",
          "name": "stdout",
          "text": [
            "meowmeowmeow\n"
          ]
        }
      ]
    },
    {
      "cell_type": "code",
      "source": [
        "print(\"meow/n\" * 3, end=\"\")"
      ],
      "metadata": {
        "colab": {
          "base_uri": "https://localhost:8080/"
        },
        "id": "r7kJ3rotfeYl",
        "outputId": "b57deb34-3195-4991-bdcb-ae6c4f4a9e04"
      },
      "execution_count": null,
      "outputs": [
        {
          "output_type": "stream",
          "name": "stdout",
          "text": [
            "meow/nmeow/nmeow/n"
          ]
        }
      ]
    },
    {
      "cell_type": "code",
      "source": [
        "while True: \n",
        "  n = int(input(\"What's n? \"))\n",
        "  if n > 0: \n",
        "    break; \n",
        "\n",
        "for _ in range(n): \n",
        "  print(\"meow\")"
      ],
      "metadata": {
        "colab": {
          "base_uri": "https://localhost:8080/"
        },
        "id": "PtGpDwe-fx3Z",
        "outputId": "d118816d-c978-40df-d243-1fcbabb74a15"
      },
      "execution_count": null,
      "outputs": [
        {
          "output_type": "stream",
          "name": "stdout",
          "text": [
            "What's n? 5\n",
            "meow\n",
            "meow\n",
            "meow\n",
            "meow\n",
            "meow\n"
          ]
        }
      ]
    },
    {
      "cell_type": "code",
      "source": [
        "def main(): \n",
        "  number = get_number() \n",
        "  meow(number)\n",
        "\n",
        "def get_number(): \n",
        "  while True: \n",
        "    n = int(input(\"What's n? \"))\n",
        "    if n > 0: \n",
        "      break; \n",
        "  return n\n",
        "\n",
        "def meow(n): \n",
        "  for _ in range(n): \n",
        "    print(\"meow\")\n",
        "\n",
        "main()"
      ],
      "metadata": {
        "colab": {
          "base_uri": "https://localhost:8080/"
        },
        "id": "pP9ASz_1gE5K",
        "outputId": "2feb6e8a-98fc-4a58-8b51-1b4369ad5342"
      },
      "execution_count": null,
      "outputs": [
        {
          "output_type": "stream",
          "name": "stdout",
          "text": [
            "What's n? 4\n",
            "meow\n",
            "meow\n",
            "meow\n",
            "meow\n"
          ]
        }
      ]
    },
    {
      "cell_type": "code",
      "source": [
        "students = [\"Hermoine\", \"Harry\", \"Ron\"]\n",
        "\n",
        "print(students[0]) \n",
        "print(students[1]) \n",
        "print(students[2]) "
      ],
      "metadata": {
        "colab": {
          "base_uri": "https://localhost:8080/"
        },
        "id": "tl3lo-9bgqJf",
        "outputId": "0877b363-c79b-428f-eb0e-81130e28be5c"
      },
      "execution_count": null,
      "outputs": [
        {
          "output_type": "stream",
          "name": "stdout",
          "text": [
            "Hermoine\n",
            "Harry\n",
            "Ron\n"
          ]
        }
      ]
    },
    {
      "cell_type": "code",
      "source": [
        "students = [\"Hermoine\", \"Harry\", \"Ron\"]\n",
        "\n",
        "for students in students: \n",
        "  print(students) "
      ],
      "metadata": {
        "colab": {
          "base_uri": "https://localhost:8080/"
        },
        "id": "9Yhcf7xqhkou",
        "outputId": "e8322422-e568-47f2-9e95-eca6a47eaf27"
      },
      "execution_count": null,
      "outputs": [
        {
          "output_type": "stream",
          "name": "stdout",
          "text": [
            "Hermoine\n",
            "Harry\n",
            "Ron\n"
          ]
        }
      ]
    },
    {
      "cell_type": "code",
      "source": [
        "students = [\"Hermoine\", \"Harry\", \"Ron\"]\n",
        "\n",
        "for i in range(len(students)): \n",
        "  print(i + 1, students[i])"
      ],
      "metadata": {
        "colab": {
          "base_uri": "https://localhost:8080/"
        },
        "id": "vZd1GIdSiGsg",
        "outputId": "a46cf26d-2d39-42a1-fe05-67b4f417e270"
      },
      "execution_count": null,
      "outputs": [
        {
          "output_type": "stream",
          "name": "stdout",
          "text": [
            "1 Hermoine\n",
            "2 Harry\n",
            "3 Ron\n"
          ]
        }
      ]
    },
    {
      "cell_type": "code",
      "source": [
        "students = [\"Hermoine\", \"Harry\", \"Ron\"]\n",
        "houses = [\"Tippetts\", \"Main\", \"Fowle\", \"Keil\", \"Culbertson\"] "
      ],
      "metadata": {
        "id": "JAb-Ph-RiXIt"
      },
      "execution_count": null,
      "outputs": []
    },
    {
      "cell_type": "code",
      "source": [
        "students = {\n",
        "    \"Hermoine\": \"Gryffindor\",\n",
        "    \"Harry\": \"Gryffindor\", \n",
        "    \"Ron\": \"Gryffindor\", \n",
        "    \"Draco\": \"Syltherin\", \n",
        "}\n",
        "print(students[\"Hermoine\"])\n",
        "print(students[\"Harry\"])\n",
        "print(students[\"Ron\"])\n",
        "print(students[\"Draco\"])"
      ],
      "metadata": {
        "colab": {
          "base_uri": "https://localhost:8080/"
        },
        "id": "THc0R5tcjbNE",
        "outputId": "4b703b84-7166-43f1-f19a-4b7ccb5bb1c1"
      },
      "execution_count": null,
      "outputs": [
        {
          "output_type": "stream",
          "name": "stdout",
          "text": [
            "Gryffindor\n",
            "Gryffindor\n",
            "Gryffindor\n",
            "Syltherin\n"
          ]
        }
      ]
    },
    {
      "cell_type": "code",
      "source": [
        "students = {\n",
        "    \"Hermoine\": \"Gryffindor\",\n",
        "    \"Harry\": \"Gryffindor\", \n",
        "    \"Ron\": \"Gryffindor\", \n",
        "    \"Draco\": \"Syltherin\", \n",
        "}\n",
        "for student in students: \n",
        "  print(student)"
      ],
      "metadata": {
        "colab": {
          "base_uri": "https://localhost:8080/"
        },
        "id": "XIja4Yk9j-JE",
        "outputId": "1decd264-41d3-49aa-e907-d55ec58d7b14"
      },
      "execution_count": null,
      "outputs": [
        {
          "output_type": "stream",
          "name": "stdout",
          "text": [
            "Hermoine\n",
            "Harry\n",
            "Ron\n",
            "Draco\n"
          ]
        }
      ]
    },
    {
      "cell_type": "code",
      "source": [
        "students = {\n",
        "    \"Hermoine\": \"Gryffindor\",\n",
        "    \"Harry\": \"Gryffindor\", \n",
        "    \"Ron\": \"Gryffindor\", \n",
        "    \"Draco\": \"Syltherin\", \n",
        "}\n",
        "for student in students: \n",
        "  print(student, students[student])"
      ],
      "metadata": {
        "colab": {
          "base_uri": "https://localhost:8080/"
        },
        "id": "3JWxouo5kKoG",
        "outputId": "73274a06-b1fe-4862-cc60-02ee66eded57"
      },
      "execution_count": null,
      "outputs": [
        {
          "output_type": "stream",
          "name": "stdout",
          "text": [
            "Hermoine Gryffindor\n",
            "Harry Gryffindor\n",
            "Ron Gryffindor\n",
            "Draco Syltherin\n"
          ]
        }
      ]
    },
    {
      "cell_type": "code",
      "source": [
        "students = {\n",
        "    \"Hermoine\": \"Gryffindor\",\n",
        "    \"Harry\": \"Gryffindor\", \n",
        "    \"Ron\": \"Gryffindor\", \n",
        "    \"Draco\": \"Syltherin\", \n",
        "}\n",
        "for student in students: \n",
        "  print(student, students[student], sep=\", \")"
      ],
      "metadata": {
        "colab": {
          "base_uri": "https://localhost:8080/"
        },
        "id": "T-iEBikEkSql",
        "outputId": "cfeb62f3-f71b-4e86-93c8-14f566e3ca5a"
      },
      "execution_count": null,
      "outputs": [
        {
          "output_type": "stream",
          "name": "stdout",
          "text": [
            "Hermoine, Gryffindor\n",
            "Harry, Gryffindor\n",
            "Ron, Gryffindor\n",
            "Draco, Syltherin\n"
          ]
        }
      ]
    },
    {
      "cell_type": "code",
      "source": [
        "students = [ \n",
        "            {\"name\": \"Hermonine\", \"house\": \"Gryffindor\", \"patronus\": \"Otter\"},\n",
        "            {\"name\": \"Harry\", \"house\": \"Gryffindor\", \"patronus\": \"Stag\"},\n",
        "            {\"name\": \"Ron\", \"house\": \"Gryffindor\", \"patronus\": \"Jack Russell terrier\"},\n",
        "            {\"name\": \"Draco\", \"house\": \"Slytherin\", \"patronus\": None},\n",
        "]\n",
        "\n",
        "for student in students: \n",
        "  print(student[\"name\"], student[\"house\"], student[\"patronus\"], sep=\", \")"
      ],
      "metadata": {
        "colab": {
          "base_uri": "https://localhost:8080/"
        },
        "id": "z6AJUhgbkkrc",
        "outputId": "83381574-4d62-4810-ff4b-4c2f14107c7a"
      },
      "execution_count": null,
      "outputs": [
        {
          "output_type": "stream",
          "name": "stdout",
          "text": [
            "Hermonine, Gryffindor, Otter\n",
            "Harry, Gryffindor, Stag\n",
            "Ron, Gryffindor, Jack Russell terrier\n",
            "Draco, Slytherin, None\n"
          ]
        }
      ]
    },
    {
      "cell_type": "code",
      "source": [
        "for _ in range(3): \n",
        "  print(\"#\")"
      ],
      "metadata": {
        "colab": {
          "base_uri": "https://localhost:8080/"
        },
        "id": "2wkPtdJ3mlGd",
        "outputId": "615ade2b-bda9-4969-e252-1b45152602e8"
      },
      "execution_count": null,
      "outputs": [
        {
          "output_type": "stream",
          "name": "stdout",
          "text": [
            "#\n",
            "#\n",
            "#\n"
          ]
        }
      ]
    },
    {
      "cell_type": "code",
      "source": [
        "def main(): \n",
        "  print_column(3)\n",
        "\n",
        "def print_column(height): \n",
        "  for _ in range(height): \n",
        "    print(\"#\")\n",
        "\n",
        "main()"
      ],
      "metadata": {
        "colab": {
          "base_uri": "https://localhost:8080/"
        },
        "id": "LXuCrGG-mo5a",
        "outputId": "8a511fe0-913e-43a1-b600-224b1f90400c"
      },
      "execution_count": null,
      "outputs": [
        {
          "output_type": "stream",
          "name": "stdout",
          "text": [
            "#\n",
            "#\n",
            "#\n"
          ]
        }
      ]
    },
    {
      "cell_type": "code",
      "source": [
        "def main(): \n",
        "  print_square(3)\n",
        "\n",
        "def print_square(size): \n",
        "\n",
        "  # For each row in square \n",
        "  for i in range(size): \n",
        "\n",
        "    # For each brick in row \n",
        "    for j in range(size): \n",
        "\n",
        "      # Print brick \n",
        "      print(\"#\", end=\"\")\n",
        "\n",
        "    # Print blank line\n",
        "    print()\n",
        "\n",
        "main()"
      ],
      "metadata": {
        "colab": {
          "base_uri": "https://localhost:8080/"
        },
        "id": "DioKOYhlm6Nc",
        "outputId": "89653b94-0c92-4c8c-ca29-fc9fc1de0691"
      },
      "execution_count": null,
      "outputs": [
        {
          "output_type": "stream",
          "name": "stdout",
          "text": [
            "###\n",
            "###\n",
            "###\n"
          ]
        }
      ]
    },
    {
      "cell_type": "code",
      "source": [
        "def main(): \n",
        "  print_square(3)\n",
        "\n",
        "def print_square(size): \n",
        "  for i in range(size): \n",
        "    print_row(size)\n",
        "\n",
        "def print_row(width): \n",
        "  print(\"#\" * width)\n",
        "\n",
        "main()"
      ],
      "metadata": {
        "colab": {
          "base_uri": "https://localhost:8080/"
        },
        "id": "qrviWYb0oF8b",
        "outputId": "c55a7988-ca81-4a87-bedb-5790f464540d"
      },
      "execution_count": null,
      "outputs": [
        {
          "output_type": "stream",
          "name": "stdout",
          "text": [
            "###\n",
            "###\n",
            "###\n"
          ]
        }
      ]
    },
    {
      "cell_type": "code",
      "source": [
        "# This is a list of dormitories in my school with a variable of \"houses\"\n",
        "houses = [\"Tippetts\", \"Main\", \"Fowle\", \"Keil\", \"Culbertson\"] \n",
        "\n",
        "# Usage of \"for loop\" to repeat the command for all five dorimitories as declared in the list \n",
        "for i in range(len(houses)): \n",
        "  print(i + 1, houses[i])  # Print this command so that there are numbers i + 1 when i is zero for each of the dormitories. "
      ],
      "metadata": {
        "colab": {
          "base_uri": "https://localhost:8080/"
        },
        "id": "0tiStQ2qo7fW",
        "outputId": "e6e07b92-2d67-4965-acad-39dda4444315"
      },
      "execution_count": null,
      "outputs": [
        {
          "output_type": "stream",
          "name": "stdout",
          "text": [
            "1 Tippetts\n",
            "2 Main\n",
            "3 Fowle\n",
            "4 Keil\n",
            "5 Culbertson\n"
          ]
        }
      ]
    }
  ]
}